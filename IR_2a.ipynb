{
  "nbformat": 4,
  "nbformat_minor": 0,
  "metadata": {
    "colab": {
      "name": "IR_2a.ipynb",
      "provenance": [],
      "collapsed_sections": [],
      "include_colab_link": true
    },
    "kernelspec": {
      "name": "python3",
      "display_name": "Python 3"
    },
    "language_info": {
      "name": "python"
    }
  },
  "cells": [
    {
      "cell_type": "markdown",
      "metadata": {
        "id": "view-in-github",
        "colab_type": "text"
      },
      "source": [
        "<a href=\"https://colab.research.google.com/github/ishitaa27/PageRankingAlgorithm/blob/main/IR_2a.ipynb\" target=\"_parent\"><img src=\"https://colab.research.google.com/assets/colab-badge.svg\" alt=\"Open In Colab\"/></a>"
      ]
    },
    {
      "cell_type": "code",
      "execution_count": null,
      "metadata": {
        "id": "-AUX7h-hk_vE"
      },
      "outputs": [],
      "source": [
        "import pandas as pd\n",
        "import numpy as np\n",
        "import scipy"
      ]
    },
    {
      "cell_type": "code",
      "source": [
        "#To calculate eigen vector\n",
        "def left_eigen(n,c,e_list):\n",
        "  mat = np.zeros((n,n))\n",
        "  MAT = np.zeros((n,n))\n",
        "  for i in range(c):\n",
        "    x = e_list[i][0]\n",
        "    y = e_list[i][1]\n",
        "    mat[(x-1)][(y-1)] = 1\n",
        "    MAT[(x-1)][(y-1)] = 1\n",
        "  for i in range(n):\n",
        "    mat[i]= mat[i]/sum(mat[i])\n",
        "  v, V = np.linalg.eig(mat.T)\n",
        "  left_ev = V[:,0].T\n",
        "  left_ev.sort()\n",
        "  return left_ev, mat, MAT\n",
        "  \n"
      ],
      "metadata": {
        "id": "j7XxwDFmpC3f"
      },
      "execution_count": null,
      "outputs": []
    },
    {
      "cell_type": "code",
      "source": [
        "def left_eigen_vector(mat):\n",
        "  v, V = np.linalg.eig(mat.T)\n",
        "  left_ev = V[:,0].T\n",
        "  left_ev.sort()\n",
        "  return left_ev\n"
      ],
      "metadata": {
        "id": "-VBH1igPuYYZ"
      },
      "execution_count": null,
      "outputs": []
    },
    {
      "cell_type": "code",
      "source": [
        "#To calculate the teleportation matrix\n",
        "def cal_teleportation(MAT):\n",
        "  alpha = 0.1\n",
        "  for i in range(nodes):\n",
        "    for j in range(nodes):\n",
        "      if (MAT[i][j]==0):\n",
        "        MAT[i][j] = alpha/List_N_M[i][0]\n",
        "      else:\n",
        "        MAT[i][j] = MAT[i][j]*(1-alpha)/List_N_M[i][1]\n",
        "  return MAT"
      ],
      "metadata": {
        "id": "Z2l1mmRnuQYA"
      },
      "execution_count": null,
      "outputs": []
    },
    {
      "cell_type": "code",
      "source": [
        "#Taking the input\n",
        "nodes = int(input('Number of nodes:'))\n",
        "connections = int(input('Number of connections:'))\n",
        "edges = input('Enter the edges:')\n",
        "edges = edges.split(' ')\n",
        "edges_list = []\n",
        "for i in range(connections):\n",
        "  edges_list.append(tuple(int(x) for x in edges[i].split(',')))"
      ],
      "metadata": {
        "colab": {
          "base_uri": "https://localhost:8080/"
        },
        "id": "nhyu95IPw9z7",
        "outputId": "078ef5fb-d557-41a1-c181-95a211c0552d"
      },
      "execution_count": null,
      "outputs": [
        {
          "name": "stdout",
          "output_type": "stream",
          "text": [
            "Number of nodes:4\n",
            "Number of connections:6\n",
            "Enter the edges:1,2 2,1 2,3 3,2 3,4 4,3\n"
          ]
        }
      ]
    },
    {
      "cell_type": "code",
      "source": [
        "EigenVector, Mat, MAT = left_eigen(nodes,connections,edges_list)\n",
        "List_N_M =[]\n",
        "for i in range(nodes):\n",
        "  N=0 #any page teleportation total\n",
        "  M=0 #can go to only these pages\n",
        "  for j in range(nodes):\n",
        "    if (MAT[i][j] == 0):\n",
        "      N = N+1\n",
        "    else:\n",
        "      M = M+1\n",
        "  List_N_M.append((N,M))\n",
        "#List_N_M  \n",
        "#MAT\n",
        "  "
      ],
      "metadata": {
        "id": "Nqc3aET9uLt3"
      },
      "execution_count": null,
      "outputs": []
    },
    {
      "cell_type": "code",
      "source": [
        "print(List_N_M)"
      ],
      "metadata": {
        "colab": {
          "base_uri": "https://localhost:8080/"
        },
        "id": "ZYn2GsabuPyf",
        "outputId": "d7346798-1f93-47c6-aca8-bc7849e6aa3c"
      },
      "execution_count": null,
      "outputs": [
        {
          "output_type": "stream",
          "name": "stdout",
          "text": [
            "[(3, 1), (2, 2), (2, 2), (3, 1)]\n"
          ]
        }
      ]
    },
    {
      "cell_type": "code",
      "source": [
        "Teleportation_Matrix = cal_teleportation(MAT)\n",
        "print(Teleportation_Matrix)"
      ],
      "metadata": {
        "id": "Y4MPYKs6uTBP",
        "colab": {
          "base_uri": "https://localhost:8080/"
        },
        "outputId": "30c4db42-1f0f-4522-9a4d-c7e074272e34"
      },
      "execution_count": null,
      "outputs": [
        {
          "output_type": "stream",
          "name": "stdout",
          "text": [
            "[[0.03333333 0.9        0.03333333 0.03333333]\n",
            " [0.45       0.05       0.45       0.05      ]\n",
            " [0.05       0.45       0.05       0.45      ]\n",
            " [0.03333333 0.03333333 0.9        0.03333333]]\n"
          ]
        }
      ]
    },
    {
      "cell_type": "code",
      "source": [
        "print(left_eigen_vector(Teleportation_Matrix))"
      ],
      "metadata": {
        "colab": {
          "base_uri": "https://localhost:8080/"
        },
        "id": "ybK1dYMEuaqX",
        "outputId": "eb97193d-b0f1-442e-94bf-77e600598a9a"
      },
      "execution_count": null,
      "outputs": [
        {
          "output_type": "stream",
          "name": "stdout",
          "text": [
            "[-0.62330046 -0.62330046 -0.33391096 -0.33391096]\n"
          ]
        }
      ]
    },
    {
      "cell_type": "code",
      "source": [
        "#Power Iteration Method with Random Teleportation\n",
        "r_0 = np.empty(nodes)\n",
        "r_0.fill((1/nodes))\n",
        "print(r_0)\n",
        "count = 0\n",
        "epochs = 50000\n",
        "for i in range(epochs):\n",
        "  convergence = r_0\n",
        "  r_0 = np.dot(r_0, Teleportation_Matrix)\n",
        "  count += 1\n",
        "  converged = False\n",
        "  for i in range(len(r_0)):\n",
        "    if r_0[i] == convergence[i]:\n",
        "      converged = True\n",
        "  if converged:\n",
        "    break\n",
        "print(r_0)\n",
        "print(\"The number of iterations it took for convergence is \", count)\n",
        "#print(np.sum(r_0))"
      ],
      "metadata": {
        "colab": {
          "base_uri": "https://localhost:8080/"
        },
        "id": "3HhC3dT-UY7P",
        "outputId": "4de392e2-5b70-4a84-85ac-e365232b69e9"
      },
      "execution_count": 26,
      "outputs": [
        {
          "output_type": "stream",
          "name": "stdout",
          "text": [
            "[0.25 0.25 0.25 0.25]\n",
            "[0.1744186 0.3255814 0.3255814 0.1744186]\n",
            "The number of iterations it took for convergence is  43\n"
          ]
        }
      ]
    },
    {
      "cell_type": "code",
      "source": [
        "#Power Iteration Method without Random Teleportation\n",
        "EigenVector, Mat, MAT = left_eigen(nodes,connections,edges_list)\n",
        "x_0 = np.empty(nodes)\n",
        "x_0.fill((1/nodes))\n",
        "print(x_0)\n",
        "count = 0\n",
        "epochs = 50000\n",
        "for i in range(epochs):\n",
        "  convergence = x_0\n",
        "  x_0 = np.dot(x_0, Mat)\n",
        "  count += 1\n",
        "  converged = False\n",
        "  for i in range(len(x_0)):\n",
        "    if x_0[i] == convergence[i]:\n",
        "      converged = True\n",
        "  if converged:\n",
        "    break\n",
        "print(x_0)\n",
        "print(\"The number of iterations it took for convergence is \", count)"
      ],
      "metadata": {
        "colab": {
          "base_uri": "https://localhost:8080/"
        },
        "id": "_RrOUI9JUwrj",
        "outputId": "c0306060-ce4a-4557-e4aa-ba5eb1aed690"
      },
      "execution_count": 27,
      "outputs": [
        {
          "output_type": "stream",
          "name": "stdout",
          "text": [
            "[0.25 0.25 0.25 0.25]\n",
            "[0.16666667 0.33333333 0.33333333 0.16666667]\n",
            "The number of iterations it took for convergence is  54\n"
          ]
        }
      ]
    }
  ]
}